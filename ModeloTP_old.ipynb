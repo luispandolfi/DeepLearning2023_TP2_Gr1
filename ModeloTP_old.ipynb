{
  "cells": [
    {
      "cell_type": "code",
      "execution_count": 3,
      "metadata": {
        "id": "QNHV8L3XP0vU"
      },
      "outputs": [],
      "source": [
        "import pandas as pd\n",
        "import numpy as np\n",
        "from sklearn.model_selection import train_test_split\n",
        "from keras.layers import Input, Embedding, Flatten, Dropout, Dense, Concatenate, Lambda, BatchNormalization\n",
        "from keras.models import Model\n",
        "from keras.regularizers import l2\n",
        "from keras.constraints import max_norm\n",
        "from keras.callbacks import EarlyStopping, ModelCheckpoint, ReduceLROnPlateau\n",
        "from keras.optimizers.legacy import SGD, Adam\n",
        "import keras.backend as K\n",
        "from keras.metrics import RootMeanSquaredError\n",
        "import matplotlib.pyplot as plt\n",
        "from data.data_frame_loader import DataFrameLoader"
      ]
    },
    {
      "cell_type": "code",
      "execution_count": 8,
      "metadata": {
        "id": "8_hC1eFPQE14"
      },
      "outputs": [
        {
          "name": "stderr",
          "output_type": "stream",
          "text": [
            "c:\\Users\\agust\\OneDrive\\Desktop\\Facu\\DeepLearning\\DeepLearning2023_TP2_Gr1\\data\\data_frame_loader.py:64: SettingWithCopyWarning: \n",
            "A value is trying to be set on a copy of a slice from a DataFrame.\n",
            "Try using .loc[row_indexer,col_indexer] = value instead\n",
            "\n",
            "See the caveats in the documentation: https://pandas.pydata.org/pandas-docs/stable/user_guide/indexing.html#returning-a-view-versus-a-copy\n",
            "  df[\"Release Date\"] = pd.to_datetime(df[\"Release Date\"], format=\"%d-%b-%Y\")\n"
          ]
        }
      ],
      "source": [
        "df_personas, df_trabajadores, df_usuarios, df_peliculas, df_scores = DataFrameLoader.load_all(\"csv_files/personas.csv\",\"csv_files/trabajadores.csv\",\"csv_files/usuarios.csv\",\"csv_files/peliculas.csv\",\"csv_files/scores.csv\")"
      ]
    },
    {
      "cell_type": "code",
      "execution_count": 9,
      "metadata": {
        "colab": {
          "base_uri": "https://localhost:8080/",
          "height": 394
        },
        "id": "I-sWAqOmP0vW",
        "outputId": "6d57bb31-f877-4f9f-9795-3c6efea541f2"
      },
      "outputs": [
        {
          "data": {
            "text/html": [
              "<div>\n",
              "<style scoped>\n",
              "    .dataframe tbody tr th:only-of-type {\n",
              "        vertical-align: middle;\n",
              "    }\n",
              "\n",
              "    .dataframe tbody tr th {\n",
              "        vertical-align: top;\n",
              "    }\n",
              "\n",
              "    .dataframe thead th {\n",
              "        text-align: right;\n",
              "    }\n",
              "</style>\n",
              "<table border=\"1\" class=\"dataframe\">\n",
              "  <thead>\n",
              "    <tr style=\"text-align: right;\">\n",
              "      <th></th>\n",
              "      <th>id</th>\n",
              "      <th>Name</th>\n",
              "      <th>Release Date</th>\n",
              "      <th>IMDB URL</th>\n",
              "      <th>unknown</th>\n",
              "      <th>Action</th>\n",
              "      <th>Adventure</th>\n",
              "      <th>Animation</th>\n",
              "      <th>Children's</th>\n",
              "      <th>Comedy</th>\n",
              "      <th>...</th>\n",
              "      <th>Fantasy</th>\n",
              "      <th>Film-Noir</th>\n",
              "      <th>Horror</th>\n",
              "      <th>Musical</th>\n",
              "      <th>Mystery</th>\n",
              "      <th>Romance</th>\n",
              "      <th>Sci-Fi</th>\n",
              "      <th>Thriller</th>\n",
              "      <th>War</th>\n",
              "      <th>Western</th>\n",
              "    </tr>\n",
              "  </thead>\n",
              "  <tbody>\n",
              "    <tr>\n",
              "      <th>0</th>\n",
              "      <td>1</td>\n",
              "      <td>Toy Story (1995)</td>\n",
              "      <td>1995-01-01</td>\n",
              "      <td>http://us.imdb.com/M/title-exact?Toy%20Story%2...</td>\n",
              "      <td>0</td>\n",
              "      <td>0</td>\n",
              "      <td>0</td>\n",
              "      <td>1</td>\n",
              "      <td>1</td>\n",
              "      <td>1</td>\n",
              "      <td>...</td>\n",
              "      <td>0</td>\n",
              "      <td>0</td>\n",
              "      <td>0</td>\n",
              "      <td>0</td>\n",
              "      <td>0</td>\n",
              "      <td>0</td>\n",
              "      <td>0</td>\n",
              "      <td>0</td>\n",
              "      <td>0</td>\n",
              "      <td>0</td>\n",
              "    </tr>\n",
              "    <tr>\n",
              "      <th>1</th>\n",
              "      <td>2</td>\n",
              "      <td>GoldenEye (1995)</td>\n",
              "      <td>1995-01-01</td>\n",
              "      <td>http://us.imdb.com/M/title-exact?GoldenEye%20(...</td>\n",
              "      <td>0</td>\n",
              "      <td>1</td>\n",
              "      <td>1</td>\n",
              "      <td>0</td>\n",
              "      <td>0</td>\n",
              "      <td>0</td>\n",
              "      <td>...</td>\n",
              "      <td>0</td>\n",
              "      <td>0</td>\n",
              "      <td>0</td>\n",
              "      <td>0</td>\n",
              "      <td>0</td>\n",
              "      <td>0</td>\n",
              "      <td>0</td>\n",
              "      <td>1</td>\n",
              "      <td>0</td>\n",
              "      <td>0</td>\n",
              "    </tr>\n",
              "    <tr>\n",
              "      <th>2</th>\n",
              "      <td>3</td>\n",
              "      <td>Four Rooms (1995)</td>\n",
              "      <td>1995-01-01</td>\n",
              "      <td>http://us.imdb.com/M/title-exact?Four%20Rooms%...</td>\n",
              "      <td>0</td>\n",
              "      <td>0</td>\n",
              "      <td>0</td>\n",
              "      <td>0</td>\n",
              "      <td>0</td>\n",
              "      <td>0</td>\n",
              "      <td>...</td>\n",
              "      <td>0</td>\n",
              "      <td>0</td>\n",
              "      <td>0</td>\n",
              "      <td>0</td>\n",
              "      <td>0</td>\n",
              "      <td>0</td>\n",
              "      <td>0</td>\n",
              "      <td>1</td>\n",
              "      <td>0</td>\n",
              "      <td>0</td>\n",
              "    </tr>\n",
              "    <tr>\n",
              "      <th>3</th>\n",
              "      <td>4</td>\n",
              "      <td>Get Shorty (1995)</td>\n",
              "      <td>1995-01-01</td>\n",
              "      <td>http://us.imdb.com/M/title-exact?Get%20Shorty%...</td>\n",
              "      <td>0</td>\n",
              "      <td>1</td>\n",
              "      <td>0</td>\n",
              "      <td>0</td>\n",
              "      <td>0</td>\n",
              "      <td>1</td>\n",
              "      <td>...</td>\n",
              "      <td>0</td>\n",
              "      <td>0</td>\n",
              "      <td>0</td>\n",
              "      <td>0</td>\n",
              "      <td>0</td>\n",
              "      <td>0</td>\n",
              "      <td>0</td>\n",
              "      <td>0</td>\n",
              "      <td>0</td>\n",
              "      <td>0</td>\n",
              "    </tr>\n",
              "    <tr>\n",
              "      <th>4</th>\n",
              "      <td>5</td>\n",
              "      <td>Copycat (1995)</td>\n",
              "      <td>1995-01-01</td>\n",
              "      <td>http://us.imdb.com/M/title-exact?Copycat%20(1995)</td>\n",
              "      <td>0</td>\n",
              "      <td>0</td>\n",
              "      <td>0</td>\n",
              "      <td>0</td>\n",
              "      <td>0</td>\n",
              "      <td>0</td>\n",
              "      <td>...</td>\n",
              "      <td>0</td>\n",
              "      <td>0</td>\n",
              "      <td>0</td>\n",
              "      <td>0</td>\n",
              "      <td>0</td>\n",
              "      <td>0</td>\n",
              "      <td>0</td>\n",
              "      <td>1</td>\n",
              "      <td>0</td>\n",
              "      <td>0</td>\n",
              "    </tr>\n",
              "  </tbody>\n",
              "</table>\n",
              "<p>5 rows × 23 columns</p>\n",
              "</div>"
            ],
            "text/plain": [
              "   id               Name Release Date  \\\n",
              "0   1   Toy Story (1995)   1995-01-01   \n",
              "1   2   GoldenEye (1995)   1995-01-01   \n",
              "2   3  Four Rooms (1995)   1995-01-01   \n",
              "3   4  Get Shorty (1995)   1995-01-01   \n",
              "4   5     Copycat (1995)   1995-01-01   \n",
              "\n",
              "                                            IMDB URL  unknown  Action  \\\n",
              "0  http://us.imdb.com/M/title-exact?Toy%20Story%2...        0       0   \n",
              "1  http://us.imdb.com/M/title-exact?GoldenEye%20(...        0       1   \n",
              "2  http://us.imdb.com/M/title-exact?Four%20Rooms%...        0       0   \n",
              "3  http://us.imdb.com/M/title-exact?Get%20Shorty%...        0       1   \n",
              "4  http://us.imdb.com/M/title-exact?Copycat%20(1995)        0       0   \n",
              "\n",
              "   Adventure  Animation  Children's  Comedy  ...  Fantasy  Film-Noir  Horror  \\\n",
              "0          0          1           1       1  ...        0          0       0   \n",
              "1          1          0           0       0  ...        0          0       0   \n",
              "2          0          0           0       0  ...        0          0       0   \n",
              "3          0          0           0       1  ...        0          0       0   \n",
              "4          0          0           0       0  ...        0          0       0   \n",
              "\n",
              "   Musical  Mystery  Romance  Sci-Fi  Thriller  War  Western  \n",
              "0        0        0        0       0         0    0        0  \n",
              "1        0        0        0       0         1    0        0  \n",
              "2        0        0        0       0         1    0        0  \n",
              "3        0        0        0       0         0    0        0  \n",
              "4        0        0        0       0         1    0        0  \n",
              "\n",
              "[5 rows x 23 columns]"
            ]
          },
          "execution_count": 9,
          "metadata": {},
          "output_type": "execute_result"
        }
      ],
      "source": [
        "u_unique = df_scores.user_id.unique()\n",
        "user2Idx = {o:i+1 for i,o in enumerate(u_unique)}  #Reindexa el ID del usuario\n",
        "\n",
        "m_unique = df_scores.movie_id.unique()\n",
        "movie2Idx = {o:i+1 for i,o in enumerate(m_unique)} #Reindexa el ID de la pelicula\n",
        "idx2Movie = {v:k for k,v in movie2Idx.items()}\n",
        "\n",
        "df_peliculas.head()"
      ]
    },
    {
      "cell_type": "code",
      "execution_count": 10,
      "metadata": {
        "id": "jT3_1hvAP0va"
      },
      "outputs": [],
      "source": [
        "def join_df(left, right, left_on, right_on=None):\n",
        "    if right_on is None: right_on = left_on\n",
        "    return left.merge(right, how='left', left_on=left_on, right_on=right_on,\n",
        "                      suffixes=(\"\", \"_y\"))\n",
        "\n",
        "df_scores = join_df(df_scores, df_peliculas, \"movie_id\", \"id\")"
      ]
    },
    {
      "cell_type": "code",
      "execution_count": 11,
      "metadata": {
        "colab": {
          "base_uri": "https://localhost:8080/",
          "height": 446
        },
        "id": "EjCPJbkwP0vb",
        "outputId": "368b2552-836b-45da-da94-4435176f6fb9"
      },
      "outputs": [
        {
          "data": {
            "text/html": [
              "<div>\n",
              "<style scoped>\n",
              "    .dataframe tbody tr th:only-of-type {\n",
              "        vertical-align: middle;\n",
              "    }\n",
              "\n",
              "    .dataframe tbody tr th {\n",
              "        vertical-align: top;\n",
              "    }\n",
              "\n",
              "    .dataframe thead th {\n",
              "        text-align: right;\n",
              "    }\n",
              "</style>\n",
              "<table border=\"1\" class=\"dataframe\">\n",
              "  <thead>\n",
              "    <tr style=\"text-align: right;\">\n",
              "      <th></th>\n",
              "      <th>id</th>\n",
              "      <th>user_id</th>\n",
              "      <th>movie_id</th>\n",
              "      <th>rating</th>\n",
              "      <th>Date</th>\n",
              "      <th>id_y</th>\n",
              "      <th>Name</th>\n",
              "      <th>Release Date</th>\n",
              "      <th>IMDB URL</th>\n",
              "      <th>unknown</th>\n",
              "      <th>...</th>\n",
              "      <th>Fantasy</th>\n",
              "      <th>Film-Noir</th>\n",
              "      <th>Horror</th>\n",
              "      <th>Musical</th>\n",
              "      <th>Mystery</th>\n",
              "      <th>Romance</th>\n",
              "      <th>Sci-Fi</th>\n",
              "      <th>Thriller</th>\n",
              "      <th>War</th>\n",
              "      <th>Western</th>\n",
              "    </tr>\n",
              "  </thead>\n",
              "  <tbody>\n",
              "    <tr>\n",
              "      <th>0</th>\n",
              "      <td>0</td>\n",
              "      <td>196</td>\n",
              "      <td>242</td>\n",
              "      <td>3</td>\n",
              "      <td>1997-12-04 15:55:49</td>\n",
              "      <td>242</td>\n",
              "      <td>Kolya (1996)</td>\n",
              "      <td>1997-01-24</td>\n",
              "      <td>http://us.imdb.com/M/title-exact?Kolya%20(1996)</td>\n",
              "      <td>0</td>\n",
              "      <td>...</td>\n",
              "      <td>0</td>\n",
              "      <td>0</td>\n",
              "      <td>0</td>\n",
              "      <td>0</td>\n",
              "      <td>0</td>\n",
              "      <td>0</td>\n",
              "      <td>0</td>\n",
              "      <td>0</td>\n",
              "      <td>0</td>\n",
              "      <td>0</td>\n",
              "    </tr>\n",
              "    <tr>\n",
              "      <th>1</th>\n",
              "      <td>1</td>\n",
              "      <td>186</td>\n",
              "      <td>302</td>\n",
              "      <td>3</td>\n",
              "      <td>1998-04-04 19:22:22</td>\n",
              "      <td>302</td>\n",
              "      <td>L.A. Confidential (1997)</td>\n",
              "      <td>1997-01-01</td>\n",
              "      <td>http://us.imdb.com/M/title-exact?L%2EA%2E+Conf...</td>\n",
              "      <td>0</td>\n",
              "      <td>...</td>\n",
              "      <td>0</td>\n",
              "      <td>1</td>\n",
              "      <td>0</td>\n",
              "      <td>0</td>\n",
              "      <td>1</td>\n",
              "      <td>0</td>\n",
              "      <td>0</td>\n",
              "      <td>1</td>\n",
              "      <td>0</td>\n",
              "      <td>0</td>\n",
              "    </tr>\n",
              "    <tr>\n",
              "      <th>2</th>\n",
              "      <td>2</td>\n",
              "      <td>22</td>\n",
              "      <td>377</td>\n",
              "      <td>1</td>\n",
              "      <td>1997-11-07 07:18:36</td>\n",
              "      <td>377</td>\n",
              "      <td>Heavyweights (1994)</td>\n",
              "      <td>1994-01-01</td>\n",
              "      <td>http://us.imdb.com/M/title-exact?Heavyweights%...</td>\n",
              "      <td>0</td>\n",
              "      <td>...</td>\n",
              "      <td>0</td>\n",
              "      <td>0</td>\n",
              "      <td>0</td>\n",
              "      <td>0</td>\n",
              "      <td>0</td>\n",
              "      <td>0</td>\n",
              "      <td>0</td>\n",
              "      <td>0</td>\n",
              "      <td>0</td>\n",
              "      <td>0</td>\n",
              "    </tr>\n",
              "    <tr>\n",
              "      <th>3</th>\n",
              "      <td>3</td>\n",
              "      <td>244</td>\n",
              "      <td>51</td>\n",
              "      <td>2</td>\n",
              "      <td>1997-11-27 05:02:03</td>\n",
              "      <td>51</td>\n",
              "      <td>Legends of the Fall (1994)</td>\n",
              "      <td>1994-01-01</td>\n",
              "      <td>http://us.imdb.com/M/title-exact?Legends%20of%...</td>\n",
              "      <td>0</td>\n",
              "      <td>...</td>\n",
              "      <td>0</td>\n",
              "      <td>0</td>\n",
              "      <td>0</td>\n",
              "      <td>0</td>\n",
              "      <td>0</td>\n",
              "      <td>1</td>\n",
              "      <td>0</td>\n",
              "      <td>0</td>\n",
              "      <td>1</td>\n",
              "      <td>1</td>\n",
              "    </tr>\n",
              "    <tr>\n",
              "      <th>4</th>\n",
              "      <td>4</td>\n",
              "      <td>166</td>\n",
              "      <td>346</td>\n",
              "      <td>1</td>\n",
              "      <td>1998-02-02 05:33:16</td>\n",
              "      <td>346</td>\n",
              "      <td>Jackie Brown (1997)</td>\n",
              "      <td>1997-01-01</td>\n",
              "      <td>http://us.imdb.com/M/title-exact?imdb-title-11...</td>\n",
              "      <td>0</td>\n",
              "      <td>...</td>\n",
              "      <td>0</td>\n",
              "      <td>0</td>\n",
              "      <td>0</td>\n",
              "      <td>0</td>\n",
              "      <td>0</td>\n",
              "      <td>0</td>\n",
              "      <td>0</td>\n",
              "      <td>0</td>\n",
              "      <td>0</td>\n",
              "      <td>0</td>\n",
              "    </tr>\n",
              "  </tbody>\n",
              "</table>\n",
              "<p>5 rows × 28 columns</p>\n",
              "</div>"
            ],
            "text/plain": [
              "   id  user_id  movie_id  rating                Date  id_y  \\\n",
              "0   0      196       242       3 1997-12-04 15:55:49   242   \n",
              "1   1      186       302       3 1998-04-04 19:22:22   302   \n",
              "2   2       22       377       1 1997-11-07 07:18:36   377   \n",
              "3   3      244        51       2 1997-11-27 05:02:03    51   \n",
              "4   4      166       346       1 1998-02-02 05:33:16   346   \n",
              "\n",
              "                         Name Release Date  \\\n",
              "0                Kolya (1996)   1997-01-24   \n",
              "1    L.A. Confidential (1997)   1997-01-01   \n",
              "2         Heavyweights (1994)   1994-01-01   \n",
              "3  Legends of the Fall (1994)   1994-01-01   \n",
              "4         Jackie Brown (1997)   1997-01-01   \n",
              "\n",
              "                                            IMDB URL  unknown  ...  Fantasy  \\\n",
              "0    http://us.imdb.com/M/title-exact?Kolya%20(1996)        0  ...        0   \n",
              "1  http://us.imdb.com/M/title-exact?L%2EA%2E+Conf...        0  ...        0   \n",
              "2  http://us.imdb.com/M/title-exact?Heavyweights%...        0  ...        0   \n",
              "3  http://us.imdb.com/M/title-exact?Legends%20of%...        0  ...        0   \n",
              "4  http://us.imdb.com/M/title-exact?imdb-title-11...        0  ...        0   \n",
              "\n",
              "   Film-Noir  Horror  Musical  Mystery  Romance  Sci-Fi  Thriller  War  \\\n",
              "0          0       0        0        0        0       0         0    0   \n",
              "1          1       0        0        1        0       0         1    0   \n",
              "2          0       0        0        0        0       0         0    0   \n",
              "3          0       0        0        0        1       0         0    1   \n",
              "4          0       0        0        0        0       0         0    0   \n",
              "\n",
              "   Western  \n",
              "0        0  \n",
              "1        0  \n",
              "2        0  \n",
              "3        1  \n",
              "4        0  \n",
              "\n",
              "[5 rows x 28 columns]"
            ]
          },
          "execution_count": 11,
          "metadata": {},
          "output_type": "execute_result"
        }
      ],
      "source": [
        "df_scores.head()"
      ]
    },
    {
      "cell_type": "code",
      "execution_count": 12,
      "metadata": {
        "id": "rEItK7GaP0vc"
      },
      "outputs": [],
      "source": [
        "df_scores.user_id = df_scores.user_id.apply(lambda x: user2Idx[x])\n",
        "df_scores.movie_id = df_scores.movie_id.apply(lambda x: movie2Idx[x])"
      ]
    },
    {
      "cell_type": "code",
      "execution_count": 13,
      "metadata": {
        "id": "63cRBeq8P0ve"
      },
      "outputs": [],
      "source": [
        "df_scores_train, df_scores_val = train_test_split(df_scores, test_size=0.2)\n",
        "#Ponemos seed?"
      ]
    },
    {
      "cell_type": "code",
      "execution_count": 14,
      "metadata": {
        "id": "Rf-DIvkfP0vi"
      },
      "outputs": [],
      "source": [
        "#Agregar Unknow\n",
        "\n",
        "genre = ['Action', 'Adventure', 'Animation',\n",
        "              \"Children's\", 'Comedy', 'Crime', 'Documentary', 'Drama', 'Fantasy',\n",
        "              'Film-Noir', 'Horror', 'Musical', 'Mystery', 'Romance', 'Sci-Fi',\n",
        "              'Thriller', 'War', 'Western']"
      ]
    },
    {
      "cell_type": "code",
      "execution_count": 15,
      "metadata": {
        "id": "25iVwsqZmvu9"
      },
      "outputs": [],
      "source": [
        "\n",
        "def root_mean_squared_error(y_true, y_pred):\n",
        "    return K.sqrt(K.mean(K.square(y_pred - y_true)))"
      ]
    },
    {
      "cell_type": "code",
      "execution_count": 22,
      "metadata": {
        "colab": {
          "base_uri": "https://localhost:8080/"
        },
        "id": "SpUO2wvZP0vi",
        "outputId": "c3ba5272-894f-417c-ffe8-007dc352a6a2"
      },
      "outputs": [
        {
          "name": "stdout",
          "output_type": "stream",
          "text": [
            "Usuarios: 943\n",
            "Peliculas: 1682 \n",
            "Usuarios Train:943 \n",
            "Peliculas Train: 1642\n",
            "Model: \"model_2\"\n",
            "__________________________________________________________________________________________________\n",
            " Layer (type)                Output Shape                 Param #   Connected to                  \n",
            "==================================================================================================\n",
            " Item (InputLayer)           [(None, 1)]                  0         []                            \n",
            "                                                                                                  \n",
            " User (InputLayer)           [(None, 1)]                  0         []                            \n",
            "                                                                                                  \n",
            " Movie-Embedding (Embedding  (None, 1, 20)                33660     ['Item[0][0]']                \n",
            " )                                                                                                \n",
            "                                                                                                  \n",
            " User-Embedding (Embedding)  (None, 1, 20)                18880     ['User[0][0]']                \n",
            "                                                                                                  \n",
            " FlattenMovies (Flatten)     (None, 20)                   0         ['Movie-Embedding[0][0]']     \n",
            "                                                                                                  \n",
            " FlattenUsers (Flatten)      (None, 20)                   0         ['User-Embedding[0][0]']      \n",
            "                                                                                                  \n",
            " genre (InputLayer)          [(None, 18)]                 0         []                            \n",
            "                                                                                                  \n",
            " Concat (Concatenate)        (None, 58)                   0         ['FlattenMovies[0][0]',       \n",
            "                                                                     'FlattenUsers[0][0]',        \n",
            "                                                                     'genre[0][0]']               \n",
            "                                                                                                  \n",
            " Hidden1 (Dense)             (None, 90)                   5310      ['Concat[0][0]']              \n",
            "                                                                                                  \n",
            " dropout_3 (Dropout)         (None, 90)                   0         ['Hidden1[0][0]']             \n",
            "                                                                                                  \n",
            " Hidden2 (Dense)             (None, 120)                  10920     ['dropout_3[0][0]']           \n",
            "                                                                                                  \n",
            " dropout_4 (Dropout)         (None, 120)                  0         ['Hidden2[0][0]']             \n",
            "                                                                                                  \n",
            " Hidden3 (Dense)             (None, 90)                   10890     ['dropout_4[0][0]']           \n",
            "                                                                                                  \n",
            " dropout_5 (Dropout)         (None, 90)                   0         ['Hidden3[0][0]']             \n",
            "                                                                                                  \n",
            " Activation (Dense)          (None, 1)                    91        ['dropout_5[0][0]']           \n",
            "                                                                                                  \n",
            "==================================================================================================\n",
            "Total params: 79751 (311.53 KB)\n",
            "Trainable params: 79751 (311.53 KB)\n",
            "Non-trainable params: 0 (0.00 Byte)\n",
            "__________________________________________________________________________________________________\n"
          ]
        }
      ],
      "source": [
        "\n",
        "\n",
        "#https://code-first-ml.github.io/book1/notebooks/recommender_systems/2017-12-18-recommend-keras.html\n",
        "\n",
        "# Definir las dimensiones de los datos\n",
        "n_users = int(df_scores.user_id.nunique())\n",
        "n_movies = int(df_scores.movie_id.nunique())\n",
        "n_users_train = int(df_scores_train.user_id.nunique())\n",
        "n_movies_train = int(df_scores_train.movie_id.nunique())\n",
        "n_genre = len(genre)\n",
        "print(f\"Usuarios: {n_users}\\nPeliculas: {n_movies} \\nUsuarios Train:{n_users_train} \\nPeliculas Train: {n_movies_train}\")\n",
        "\n",
        "#Bajar un poco los numeros ---> Usuarios son la mitad\n",
        "n_latent_factors_movie = 20  # Número de factores latentes para películas\n",
        "n_latent_factors_user = 20   # Número de factores latentes para usuarios\n",
        "\n",
        "max_rating = df_scores_train['rating'].max()\n",
        "min_rating = df_scores_train['rating'].min()\n",
        "av_rating = df_scores_train['rating'].mean()\n",
        "\n",
        "# Definir el optimizador\n",
        "opt = SGD(learning_rate=0.01)\n",
        "\n",
        "# Definir las entradas\n",
        "genre_input = Input(shape=[n_genre], name='genre')\n",
        "movie_input = Input(shape=[1], name='Item')\n",
        "user_input = Input(shape=[1], name='User')\n",
        "\n",
        "# Capa de embedding para películas con regularización L2\n",
        "movie_embedding = Embedding(n_movies + 1, n_latent_factors_movie, name='Movie-Embedding', embeddings_regularizer=l2(0.01))(movie_input)\n",
        "movie_vec = Flatten(name='FlattenMovies')(movie_embedding)\n",
        "\n",
        "# Capa de embedding para usuarios con regularización L2\n",
        "user_embedding = Embedding(n_users + 1, n_latent_factors_user, name='User-Embedding', embeddings_regularizer=l2(0.01))(user_input)\n",
        "user_vec = Flatten(name='FlattenUsers')(user_embedding)\n",
        "\n",
        "# Concatenar las características\n",
        "concat = Concatenate(name='Concat')([movie_vec, user_vec, genre_input])\n",
        "\n",
        "# Capas ocultas con regularización L2, dropout y peso máximo (max_norm)\n",
        "x = Dense(90, activation='relu', name='Hidden1', kernel_regularizer=l2(0.0001), kernel_constraint=max_norm(2))(concat)\n",
        "x = Dropout(0.3)(x)\n",
        "x = Dense(120, activation='relu', name='Hidden2', kernel_regularizer=l2(0.0001), kernel_constraint=max_norm(2))(x)\n",
        "x = Dropout(0.3)(x)\n",
        "x = Dense(90, activation='relu', name='Hidden3', kernel_regularizer=l2(0.0001), kernel_constraint=max_norm(2))(x)\n",
        "x = Dropout(0.2)(x)\n",
        "\n",
        "# Capa de salida\n",
        "output = Dense(1, activation='relu', name='Activation')(x)\n",
        "\n",
        "# Crear el modelo\n",
        "model = Model([user_input, movie_input, genre_input], output)\n",
        "\n",
        "# Compilar el modelo para regresión\n",
        "model.compile(optimizer=opt, loss='mean_squared_error', metrics=[RootMeanSquaredError()])\n",
        "\n",
        "checkpointer = ModelCheckpoint(filepath='weights.hdf5', verbose=1, save_best_only=True, monitor='val_root_mean_squared_error')\n",
        "\n",
        "# Definir EarlyStopping\n",
        "early_stopping = EarlyStopping(monitor='val_root_mean_squared_error', patience=10, verbose=1)\n",
        "\n",
        "# Definir ReduceLROnPlateau\n",
        "reduce_lr = ReduceLROnPlateau(monitor='val_root_mean_squared_error', factor=0.1, patience=4, min_lr=1e-8, verbose=1)\n",
        "\n",
        "# Resumen del modelo\n",
        "model.summary()\n"
      ]
    },
    {
      "cell_type": "code",
      "execution_count": 23,
      "metadata": {
        "colab": {
          "base_uri": "https://localhost:8080/"
        },
        "id": "Szfi7HJ9deuo",
        "outputId": "54c968b4-1924-42ba-885d-9a5ecfc1e5dd"
      },
      "outputs": [
        {
          "name": "stdout",
          "output_type": "stream",
          "text": [
            "Epoch 1/300\n",
            "\n",
            "Epoch 1: val_root_mean_squared_error improved from inf to 1.10928, saving model to weights.hdf5\n",
            "534/534 - 6s - loss: 1.9948 - root_mean_squared_error: 1.2528 - val_loss: 1.6147 - val_root_mean_squared_error: 1.1093 - lr: 0.0100 - 6s/epoch - 10ms/step\n",
            "Epoch 2/300\n"
          ]
        },
        {
          "name": "stderr",
          "output_type": "stream",
          "text": [
            "/usr/local/lib/python3.10/dist-packages/keras/src/engine/training.py:3079: UserWarning: You are saving your model as an HDF5 file via `model.save()`. This file format is considered legacy. We recommend using instead the native Keras format, e.g. `model.save('my_model.keras')`.\n",
            "  saving_api.save_model(\n"
          ]
        },
        {
          "name": "stdout",
          "output_type": "stream",
          "text": [
            "\n",
            "Epoch 2: val_root_mean_squared_error improved from 1.10928 to 1.10652, saving model to weights.hdf5\n",
            "534/534 - 3s - loss: 1.6405 - root_mean_squared_error: 1.1365 - val_loss: 1.5402 - val_root_mean_squared_error: 1.1065 - lr: 0.0100 - 3s/epoch - 5ms/step\n",
            "Epoch 3/300\n",
            "\n",
            "Epoch 3: val_root_mean_squared_error did not improve from 1.10652\n",
            "534/534 - 3s - loss: 1.5542 - root_mean_squared_error: 1.1255 - val_loss: 1.4931 - val_root_mean_squared_error: 1.1101 - lr: 0.0100 - 3s/epoch - 5ms/step\n",
            "Epoch 4/300\n",
            "\n",
            "Epoch 4: val_root_mean_squared_error improved from 1.10652 to 1.10269, saving model to weights.hdf5\n",
            "534/534 - 4s - loss: 1.4886 - root_mean_squared_error: 1.1183 - val_loss: 1.4326 - val_root_mean_squared_error: 1.1027 - lr: 0.0100 - 4s/epoch - 8ms/step\n",
            "Epoch 5/300\n",
            "\n",
            "Epoch 5: val_root_mean_squared_error improved from 1.10269 to 1.09839, saving model to weights.hdf5\n",
            "534/534 - 3s - loss: 1.4403 - root_mean_squared_error: 1.1144 - val_loss: 1.3877 - val_root_mean_squared_error: 1.0984 - lr: 0.0100 - 3s/epoch - 5ms/step\n",
            "Epoch 6/300\n",
            "\n",
            "Epoch 6: val_root_mean_squared_error improved from 1.09839 to 1.09446, saving model to weights.hdf5\n",
            "534/534 - 3s - loss: 1.4002 - root_mean_squared_error: 1.1107 - val_loss: 1.3509 - val_root_mean_squared_error: 1.0945 - lr: 0.0100 - 3s/epoch - 5ms/step\n",
            "Epoch 7/300\n",
            "\n",
            "Epoch 7: val_root_mean_squared_error improved from 1.09446 to 1.09227, saving model to weights.hdf5\n",
            "534/534 - 3s - loss: 1.3617 - root_mean_squared_error: 1.1046 - val_loss: 1.3239 - val_root_mean_squared_error: 1.0923 - lr: 0.0100 - 3s/epoch - 5ms/step\n",
            "Epoch 8/300\n",
            "\n",
            "Epoch 8: val_root_mean_squared_error improved from 1.09227 to 1.08060, saving model to weights.hdf5\n",
            "534/534 - 3s - loss: 1.3276 - root_mean_squared_error: 1.0980 - val_loss: 1.2816 - val_root_mean_squared_error: 1.0806 - lr: 0.0100 - 3s/epoch - 6ms/step\n",
            "Epoch 9/300\n",
            "\n",
            "Epoch 9: val_root_mean_squared_error improved from 1.08060 to 1.06826, saving model to weights.hdf5\n",
            "534/534 - 4s - loss: 1.2961 - root_mean_squared_error: 1.0903 - val_loss: 1.2427 - val_root_mean_squared_error: 1.0683 - lr: 0.0100 - 4s/epoch - 7ms/step\n",
            "Epoch 10/300\n",
            "\n",
            "Epoch 10: val_root_mean_squared_error improved from 1.06826 to 1.04941, saving model to weights.hdf5\n",
            "534/534 - 3s - loss: 1.2597 - root_mean_squared_error: 1.0782 - val_loss: 1.1947 - val_root_mean_squared_error: 1.0494 - lr: 0.0100 - 3s/epoch - 5ms/step\n",
            "Epoch 11/300\n",
            "\n",
            "Epoch 11: val_root_mean_squared_error improved from 1.04941 to 1.02591, saving model to weights.hdf5\n",
            "534/534 - 3s - loss: 1.2095 - root_mean_squared_error: 1.0577 - val_loss: 1.1414 - val_root_mean_squared_error: 1.0259 - lr: 0.0100 - 3s/epoch - 5ms/step\n",
            "Epoch 12/300\n",
            "\n",
            "Epoch 12: val_root_mean_squared_error improved from 1.02591 to 1.00417, saving model to weights.hdf5\n",
            "534/534 - 3s - loss: 1.1617 - root_mean_squared_error: 1.0364 - val_loss: 1.0946 - val_root_mean_squared_error: 1.0042 - lr: 0.0100 - 3s/epoch - 5ms/step\n",
            "Epoch 13/300\n",
            "\n",
            "Epoch 13: val_root_mean_squared_error improved from 1.00417 to 1.00079, saving model to weights.hdf5\n",
            "534/534 - 4s - loss: 1.1204 - root_mean_squared_error: 1.0175 - val_loss: 1.0852 - val_root_mean_squared_error: 1.0008 - lr: 0.0100 - 4s/epoch - 7ms/step\n",
            "Epoch 14/300\n",
            "\n",
            "Epoch 14: val_root_mean_squared_error improved from 1.00079 to 0.97748, saving model to weights.hdf5\n",
            "534/534 - 3s - loss: 1.0812 - root_mean_squared_error: 0.9993 - val_loss: 1.0365 - val_root_mean_squared_error: 0.9775 - lr: 0.0100 - 3s/epoch - 6ms/step\n",
            "Epoch 15/300\n",
            "\n",
            "Epoch 15: val_root_mean_squared_error improved from 0.97748 to 0.96601, saving model to weights.hdf5\n",
            "534/534 - 3s - loss: 1.0552 - root_mean_squared_error: 0.9877 - val_loss: 1.0114 - val_root_mean_squared_error: 0.9660 - lr: 0.0100 - 3s/epoch - 5ms/step\n",
            "Epoch 16/300\n",
            "\n",
            "Epoch 16: val_root_mean_squared_error did not improve from 0.96601\n",
            "534/534 - 3s - loss: 1.0326 - root_mean_squared_error: 0.9775 - val_loss: 1.0172 - val_root_mean_squared_error: 0.9703 - lr: 0.0100 - 3s/epoch - 6ms/step\n",
            "Epoch 17/300\n",
            "\n",
            "Epoch 17: val_root_mean_squared_error did not improve from 0.96601\n",
            "534/534 - 3s - loss: 1.0169 - root_mean_squared_error: 0.9707 - val_loss: 1.0127 - val_root_mean_squared_error: 0.9691 - lr: 0.0100 - 3s/epoch - 5ms/step\n",
            "Epoch 18/300\n",
            "\n",
            "Epoch 18: val_root_mean_squared_error did not improve from 0.96601\n",
            "534/534 - 4s - loss: 1.0040 - root_mean_squared_error: 0.9652 - val_loss: 1.0564 - val_root_mean_squared_error: 0.9925 - lr: 0.0100 - 4s/epoch - 8ms/step\n",
            "Epoch 19/300\n",
            "\n",
            "Epoch 19: val_root_mean_squared_error improved from 0.96601 to 0.95157, saving model to weights.hdf5\n",
            "534/534 - 3s - loss: 0.9929 - root_mean_squared_error: 0.9604 - val_loss: 0.9752 - val_root_mean_squared_error: 0.9516 - lr: 0.0100 - 3s/epoch - 5ms/step\n",
            "Epoch 20/300\n",
            "\n",
            "Epoch 20: val_root_mean_squared_error did not improve from 0.95157\n",
            "534/534 - 4s - loss: 0.9848 - root_mean_squared_error: 0.9570 - val_loss: 0.9837 - val_root_mean_squared_error: 0.9570 - lr: 0.0100 - 4s/epoch - 7ms/step\n",
            "Epoch 21/300\n",
            "\n",
            "Epoch 21: val_root_mean_squared_error did not improve from 0.95157\n",
            "534/534 - 4s - loss: 0.9768 - root_mean_squared_error: 0.9536 - val_loss: 0.9745 - val_root_mean_squared_error: 0.9529 - lr: 0.0100 - 4s/epoch - 7ms/step\n",
            "Epoch 22/300\n",
            "\n",
            "Epoch 22: val_root_mean_squared_error did not improve from 0.95157\n",
            "534/534 - 4s - loss: 0.9728 - root_mean_squared_error: 0.9522 - val_loss: 0.9788 - val_root_mean_squared_error: 0.9556 - lr: 0.0100 - 4s/epoch - 8ms/step\n",
            "Epoch 23/300\n",
            "\n",
            "Epoch 23: val_root_mean_squared_error did not improve from 0.95157\n",
            "\n",
            "Epoch 23: ReduceLROnPlateau reducing learning rate to 0.0009999999776482583.\n",
            "534/534 - 3s - loss: 0.9688 - root_mean_squared_error: 0.9506 - val_loss: 0.9958 - val_root_mean_squared_error: 0.9650 - lr: 0.0100 - 3s/epoch - 5ms/step\n",
            "Epoch 24/300\n",
            "\n",
            "Epoch 24: val_root_mean_squared_error improved from 0.95157 to 0.94644, saving model to weights.hdf5\n",
            "534/534 - 3s - loss: 0.9458 - root_mean_squared_error: 0.9388 - val_loss: 0.9601 - val_root_mean_squared_error: 0.9464 - lr: 1.0000e-03 - 3s/epoch - 5ms/step\n",
            "Epoch 25/300\n",
            "\n",
            "Epoch 25: val_root_mean_squared_error improved from 0.94644 to 0.94583, saving model to weights.hdf5\n",
            "534/534 - 3s - loss: 0.9381 - root_mean_squared_error: 0.9348 - val_loss: 0.9586 - val_root_mean_squared_error: 0.9458 - lr: 1.0000e-03 - 3s/epoch - 5ms/step\n",
            "Epoch 26/300\n",
            "\n",
            "Epoch 26: val_root_mean_squared_error improved from 0.94583 to 0.94543, saving model to weights.hdf5\n",
            "534/534 - 3s - loss: 0.9353 - root_mean_squared_error: 0.9336 - val_loss: 0.9574 - val_root_mean_squared_error: 0.9454 - lr: 1.0000e-03 - 3s/epoch - 6ms/step\n",
            "Epoch 27/300\n",
            "\n",
            "Epoch 27: val_root_mean_squared_error improved from 0.94543 to 0.94463, saving model to weights.hdf5\n",
            "534/534 - 4s - loss: 0.9346 - root_mean_squared_error: 0.9334 - val_loss: 0.9556 - val_root_mean_squared_error: 0.9446 - lr: 1.0000e-03 - 4s/epoch - 8ms/step\n",
            "Epoch 28/300\n",
            "\n",
            "Epoch 28: val_root_mean_squared_error improved from 0.94463 to 0.94441, saving model to weights.hdf5\n",
            "534/534 - 3s - loss: 0.9356 - root_mean_squared_error: 0.9341 - val_loss: 0.9548 - val_root_mean_squared_error: 0.9444 - lr: 1.0000e-03 - 3s/epoch - 5ms/step\n",
            "Epoch 29/300\n",
            "\n",
            "Epoch 29: val_root_mean_squared_error improved from 0.94441 to 0.94440, saving model to weights.hdf5\n",
            "534/534 - 3s - loss: 0.9338 - root_mean_squared_error: 0.9333 - val_loss: 0.9544 - val_root_mean_squared_error: 0.9444 - lr: 1.0000e-03 - 3s/epoch - 5ms/step\n",
            "Epoch 30/300\n",
            "\n",
            "Epoch 30: val_root_mean_squared_error improved from 0.94440 to 0.94389, saving model to weights.hdf5\n",
            "534/534 - 3s - loss: 0.9314 - root_mean_squared_error: 0.9322 - val_loss: 0.9531 - val_root_mean_squared_error: 0.9439 - lr: 1.0000e-03 - 3s/epoch - 5ms/step\n",
            "Epoch 31/300\n",
            "\n",
            "Epoch 31: val_root_mean_squared_error improved from 0.94389 to 0.94371, saving model to weights.hdf5\n",
            "534/534 - 4s - loss: 0.9317 - root_mean_squared_error: 0.9326 - val_loss: 0.9524 - val_root_mean_squared_error: 0.9437 - lr: 1.0000e-03 - 4s/epoch - 7ms/step\n",
            "Epoch 32/300\n",
            "\n",
            "Epoch 32: val_root_mean_squared_error improved from 0.94371 to 0.94342, saving model to weights.hdf5\n",
            "534/534 - 3s - loss: 0.9300 - root_mean_squared_error: 0.9318 - val_loss: 0.9516 - val_root_mean_squared_error: 0.9434 - lr: 1.0000e-03 - 3s/epoch - 6ms/step\n",
            "Epoch 33/300\n",
            "\n",
            "Epoch 33: val_root_mean_squared_error improved from 0.94342 to 0.94308, saving model to weights.hdf5\n",
            "534/534 - 3s - loss: 0.9280 - root_mean_squared_error: 0.9309 - val_loss: 0.9506 - val_root_mean_squared_error: 0.9431 - lr: 1.0000e-03 - 3s/epoch - 5ms/step\n",
            "Epoch 34/300\n",
            "\n",
            "Epoch 34: val_root_mean_squared_error did not improve from 0.94308\n",
            "534/534 - 3s - loss: 0.9291 - root_mean_squared_error: 0.9317 - val_loss: 0.9505 - val_root_mean_squared_error: 0.9432 - lr: 1.0000e-03 - 3s/epoch - 5ms/step\n",
            "Epoch 35/300\n",
            "\n",
            "Epoch 35: val_root_mean_squared_error did not improve from 0.94308\n",
            "534/534 - 3s - loss: 0.9275 - root_mean_squared_error: 0.9310 - val_loss: 0.9510 - val_root_mean_squared_error: 0.9436 - lr: 1.0000e-03 - 3s/epoch - 6ms/step\n",
            "Epoch 36/300\n",
            "\n",
            "Epoch 36: val_root_mean_squared_error improved from 0.94308 to 0.94293, saving model to weights.hdf5\n",
            "534/534 - 4s - loss: 0.9277 - root_mean_squared_error: 0.9313 - val_loss: 0.9494 - val_root_mean_squared_error: 0.9429 - lr: 1.0000e-03 - 4s/epoch - 8ms/step\n",
            "Epoch 37/300\n",
            "\n",
            "Epoch 37: val_root_mean_squared_error improved from 0.94293 to 0.94263, saving model to weights.hdf5\n",
            "534/534 - 3s - loss: 0.9276 - root_mean_squared_error: 0.9314 - val_loss: 0.9486 - val_root_mean_squared_error: 0.9426 - lr: 1.0000e-03 - 3s/epoch - 5ms/step\n",
            "Epoch 38/300\n",
            "\n",
            "Epoch 38: val_root_mean_squared_error improved from 0.94263 to 0.94253, saving model to weights.hdf5\n",
            "534/534 - 3s - loss: 0.9243 - root_mean_squared_error: 0.9297 - val_loss: 0.9481 - val_root_mean_squared_error: 0.9425 - lr: 1.0000e-03 - 3s/epoch - 5ms/step\n",
            "Epoch 39/300\n",
            "\n",
            "Epoch 39: val_root_mean_squared_error did not improve from 0.94253\n",
            "534/534 - 3s - loss: 0.9265 - root_mean_squared_error: 0.9311 - val_loss: 0.9489 - val_root_mean_squared_error: 0.9431 - lr: 1.0000e-03 - 3s/epoch - 5ms/step\n",
            "Epoch 40/300\n",
            "\n",
            "Epoch 40: val_root_mean_squared_error improved from 0.94253 to 0.94226, saving model to weights.hdf5\n",
            "534/534 - 3s - loss: 0.9228 - root_mean_squared_error: 0.9292 - val_loss: 0.9471 - val_root_mean_squared_error: 0.9423 - lr: 1.0000e-03 - 3s/epoch - 6ms/step\n",
            "Epoch 41/300\n",
            "\n",
            "Epoch 41: val_root_mean_squared_error did not improve from 0.94226\n",
            "534/534 - 4s - loss: 0.9246 - root_mean_squared_error: 0.9304 - val_loss: 0.9480 - val_root_mean_squared_error: 0.9429 - lr: 1.0000e-03 - 4s/epoch - 7ms/step\n",
            "Epoch 42/300\n",
            "\n",
            "Epoch 42: val_root_mean_squared_error did not improve from 0.94226\n",
            "534/534 - 3s - loss: 0.9206 - root_mean_squared_error: 0.9283 - val_loss: 0.9478 - val_root_mean_squared_error: 0.9429 - lr: 1.0000e-03 - 3s/epoch - 5ms/step\n",
            "Epoch 43/300\n",
            "\n",
            "Epoch 43: val_root_mean_squared_error improved from 0.94226 to 0.94163, saving model to weights.hdf5\n",
            "534/534 - 3s - loss: 0.9222 - root_mean_squared_error: 0.9293 - val_loss: 0.9451 - val_root_mean_squared_error: 0.9416 - lr: 1.0000e-03 - 3s/epoch - 6ms/step\n",
            "Epoch 44/300\n",
            "\n",
            "Epoch 44: val_root_mean_squared_error did not improve from 0.94163\n",
            "534/534 - 5s - loss: 0.9204 - root_mean_squared_error: 0.9284 - val_loss: 0.9463 - val_root_mean_squared_error: 0.9424 - lr: 1.0000e-03 - 5s/epoch - 9ms/step\n",
            "Epoch 45/300\n",
            "\n",
            "Epoch 45: val_root_mean_squared_error did not improve from 0.94163\n",
            "534/534 - 4s - loss: 0.9198 - root_mean_squared_error: 0.9283 - val_loss: 0.9449 - val_root_mean_squared_error: 0.9417 - lr: 1.0000e-03 - 4s/epoch - 7ms/step\n",
            "Epoch 46/300\n",
            "\n",
            "Epoch 46: val_root_mean_squared_error did not improve from 0.94163\n",
            "534/534 - 2s - loss: 0.9186 - root_mean_squared_error: 0.9277 - val_loss: 0.9508 - val_root_mean_squared_error: 0.9450 - lr: 1.0000e-03 - 2s/epoch - 5ms/step\n",
            "Epoch 47/300\n",
            "\n",
            "Epoch 47: val_root_mean_squared_error did not improve from 0.94163\n",
            "\n",
            "Epoch 47: ReduceLROnPlateau reducing learning rate to 9.999999310821295e-05.\n",
            "534/534 - 3s - loss: 0.9185 - root_mean_squared_error: 0.9278 - val_loss: 0.9447 - val_root_mean_squared_error: 0.9419 - lr: 1.0000e-03 - 3s/epoch - 5ms/step\n",
            "Epoch 48/300\n",
            "\n",
            "Epoch 48: val_root_mean_squared_error improved from 0.94163 to 0.94161, saving model to weights.hdf5\n",
            "534/534 - 3s - loss: 0.9125 - root_mean_squared_error: 0.9247 - val_loss: 0.9442 - val_root_mean_squared_error: 0.9416 - lr: 1.0000e-04 - 3s/epoch - 6ms/step\n",
            "Epoch 49/300\n",
            "\n",
            "Epoch 49: val_root_mean_squared_error improved from 0.94161 to 0.94145, saving model to weights.hdf5\n",
            "534/534 - 4s - loss: 0.9160 - root_mean_squared_error: 0.9265 - val_loss: 0.9438 - val_root_mean_squared_error: 0.9414 - lr: 1.0000e-04 - 4s/epoch - 7ms/step\n",
            "Epoch 50/300\n",
            "\n",
            "Epoch 50: val_root_mean_squared_error did not improve from 0.94145\n",
            "534/534 - 3s - loss: 0.9129 - root_mean_squared_error: 0.9249 - val_loss: 0.9440 - val_root_mean_squared_error: 0.9415 - lr: 1.0000e-04 - 3s/epoch - 6ms/step\n",
            "Epoch 51/300\n",
            "\n",
            "Epoch 51: val_root_mean_squared_error improved from 0.94145 to 0.94141, saving model to weights.hdf5\n",
            "534/534 - 3s - loss: 0.9133 - root_mean_squared_error: 0.9251 - val_loss: 0.9437 - val_root_mean_squared_error: 0.9414 - lr: 1.0000e-04 - 3s/epoch - 5ms/step\n",
            "Epoch 52/300\n",
            "\n",
            "Epoch 52: val_root_mean_squared_error improved from 0.94141 to 0.94129, saving model to weights.hdf5\n",
            "534/534 - 3s - loss: 0.9144 - root_mean_squared_error: 0.9257 - val_loss: 0.9434 - val_root_mean_squared_error: 0.9413 - lr: 1.0000e-04 - 3s/epoch - 5ms/step\n",
            "Epoch 53/300\n",
            "\n",
            "Epoch 53: val_root_mean_squared_error did not improve from 0.94129\n",
            "534/534 - 3s - loss: 0.9135 - root_mean_squared_error: 0.9253 - val_loss: 0.9434 - val_root_mean_squared_error: 0.9413 - lr: 1.0000e-04 - 3s/epoch - 5ms/step\n",
            "Epoch 54/300\n",
            "\n",
            "Epoch 54: val_root_mean_squared_error did not improve from 0.94129\n",
            "534/534 - 4s - loss: 0.9128 - root_mean_squared_error: 0.9249 - val_loss: 0.9435 - val_root_mean_squared_error: 0.9413 - lr: 1.0000e-04 - 4s/epoch - 8ms/step\n",
            "Epoch 55/300\n",
            "\n",
            "Epoch 55: val_root_mean_squared_error improved from 0.94129 to 0.94125, saving model to weights.hdf5\n",
            "534/534 - 3s - loss: 0.9136 - root_mean_squared_error: 0.9253 - val_loss: 0.9433 - val_root_mean_squared_error: 0.9412 - lr: 1.0000e-04 - 3s/epoch - 5ms/step\n",
            "Epoch 56/300\n",
            "\n",
            "Epoch 56: val_root_mean_squared_error did not improve from 0.94125\n",
            "\n",
            "Epoch 56: ReduceLROnPlateau reducing learning rate to 9.999999019782991e-06.\n",
            "534/534 - 3s - loss: 0.9126 - root_mean_squared_error: 0.9248 - val_loss: 0.9435 - val_root_mean_squared_error: 0.9414 - lr: 1.0000e-04 - 3s/epoch - 5ms/step\n",
            "Epoch 57/300\n",
            "\n",
            "Epoch 57: val_root_mean_squared_error did not improve from 0.94125\n",
            "534/534 - 3s - loss: 0.9109 - root_mean_squared_error: 0.9239 - val_loss: 0.9434 - val_root_mean_squared_error: 0.9413 - lr: 1.0000e-05 - 3s/epoch - 5ms/step\n",
            "Epoch 58/300\n",
            "\n",
            "Epoch 58: val_root_mean_squared_error did not improve from 0.94125\n",
            "534/534 - 3s - loss: 0.9117 - root_mean_squared_error: 0.9244 - val_loss: 0.9434 - val_root_mean_squared_error: 0.9413 - lr: 1.0000e-05 - 3s/epoch - 6ms/step\n",
            "Epoch 59/300\n",
            "\n",
            "Epoch 59: val_root_mean_squared_error did not improve from 0.94125\n",
            "534/534 - 4s - loss: 0.9124 - root_mean_squared_error: 0.9247 - val_loss: 0.9434 - val_root_mean_squared_error: 0.9413 - lr: 1.0000e-05 - 4s/epoch - 8ms/step\n",
            "Epoch 60/300\n",
            "\n",
            "Epoch 60: val_root_mean_squared_error did not improve from 0.94125\n",
            "\n",
            "Epoch 60: ReduceLROnPlateau reducing learning rate to 9.99999883788405e-07.\n",
            "534/534 - 3s - loss: 0.9121 - root_mean_squared_error: 0.9245 - val_loss: 0.9434 - val_root_mean_squared_error: 0.9413 - lr: 1.0000e-05 - 3s/epoch - 5ms/step\n",
            "Epoch 61/300\n",
            "\n",
            "Epoch 61: val_root_mean_squared_error did not improve from 0.94125\n",
            "534/534 - 3s - loss: 0.9128 - root_mean_squared_error: 0.9249 - val_loss: 0.9434 - val_root_mean_squared_error: 0.9413 - lr: 1.0000e-06 - 3s/epoch - 5ms/step\n",
            "Epoch 62/300\n",
            "\n",
            "Epoch 62: val_root_mean_squared_error did not improve from 0.94125\n",
            "534/534 - 3s - loss: 0.9112 - root_mean_squared_error: 0.9241 - val_loss: 0.9434 - val_root_mean_squared_error: 0.9413 - lr: 1.0000e-06 - 3s/epoch - 5ms/step\n",
            "Epoch 63/300\n",
            "\n",
            "Epoch 63: val_root_mean_squared_error did not improve from 0.94125\n",
            "534/534 - 4s - loss: 0.9117 - root_mean_squared_error: 0.9243 - val_loss: 0.9434 - val_root_mean_squared_error: 0.9413 - lr: 1.0000e-06 - 4s/epoch - 7ms/step\n",
            "Epoch 64/300\n",
            "\n",
            "Epoch 64: val_root_mean_squared_error did not improve from 0.94125\n",
            "\n",
            "Epoch 64: ReduceLROnPlateau reducing learning rate to 9.99999883788405e-08.\n",
            "534/534 - 3s - loss: 0.9125 - root_mean_squared_error: 0.9248 - val_loss: 0.9434 - val_root_mean_squared_error: 0.9413 - lr: 1.0000e-06 - 3s/epoch - 6ms/step\n",
            "Epoch 65/300\n",
            "\n",
            "Epoch 65: val_root_mean_squared_error did not improve from 0.94125\n",
            "534/534 - 3s - loss: 0.9120 - root_mean_squared_error: 0.9245 - val_loss: 0.9434 - val_root_mean_squared_error: 0.9413 - lr: 1.0000e-07 - 3s/epoch - 5ms/step\n",
            "Epoch 65: early stopping\n"
          ]
        }
      ],
      "source": [
        "batch_size=150\n",
        "epochs=300\n",
        "\n",
        "# Entrenar el modelo\n",
        "history = model.fit(\n",
        "    [df_scores_train.user_id, df_scores_train.movie_id, df_scores_train[genre]],\n",
        "    df_scores_train.rating,\n",
        "    validation_data=([df_scores_val.user_id, df_scores_val.movie_id, df_scores_val[genre]], df_scores_val.rating),\n",
        "    batch_size=batch_size,\n",
        "    epochs=epochs,\n",
        "    verbose=2,\n",
        "    callbacks=[early_stopping, checkpointer, reduce_lr]\n",
        ")\n"
      ]
    },
    {
      "cell_type": "code",
      "execution_count": 24,
      "metadata": {
        "colab": {
          "base_uri": "https://localhost:8080/",
          "height": 565
        },
        "id": "Z2-CzZusa9w_",
        "outputId": "d377bc95-567b-4959-93e1-6b7b86eb5d56"
      },
      "outputs": [
        {
          "data": {
            "image/png": "[encoded data removed]",
            "text/plain": [
              "<Figure size 2000x600 with 2 Axes>"
            ]
          },
          "metadata": {},
          "output_type": "display_data"
        }
      ],
      "source": [
        "f, (ax1, ax2) = plt.subplots(1, 2, figsize=(20,6))\n",
        "ax1.plot(model.history.history['loss'], label='train')\n",
        "ax1.plot(model.history.history['val_loss'], label='val')\n",
        "ax1.set_title('Loss - Cross Entropy')\n",
        "ax1.legend()\n",
        "ax2.plot(model.history.history['root_mean_squared_error'], label='train')\n",
        "ax2.plot(model.history.history['val_root_mean_squared_error'], label='val')\n",
        "ax2.set_title('Metric - Accuracy')\n",
        "ax2.legend()\n",
        "plt.show()"
      ]
    },
    {
      "cell_type": "code",
      "execution_count": 25,
      "metadata": {
        "colab": {
          "base_uri": "https://localhost:8080/"
        },
        "id": "vpC9crieP0vl",
        "outputId": "6e39ed7a-3f6a-4362-aea5-86fc7c9c35e2"
      },
      "outputs": [
        {
          "name": "stdout",
          "output_type": "stream",
          "text": [
            "625/625 [==============================] - 2s 3ms/step - loss: 0.9434 - root_mean_squared_error: 0.9413\n"
          ]
        },
        {
          "data": {
            "text/plain": [
              "[0.9433679580688477, 0.9413261413574219]"
            ]
          },
          "execution_count": 25,
          "metadata": {},
          "output_type": "execute_result"
        }
      ],
      "source": [
        "model.evaluate([df_scores_val.user_id, df_scores_val.movie_id, df_scores_val[genre]], df_scores_val.rating)\n",
        "\n",
        "\n"
      ]
    },
    {
      "cell_type": "code",
      "execution_count": 26,
      "metadata": {
        "colab": {
          "base_uri": "https://localhost:8080/"
        },
        "id": "kRQYUsVKP0vl",
        "outputId": "d456cdfd-ad34-41da-872e-947d20c1f3d9"
      },
      "outputs": [
        {
          "name": "stdout",
          "output_type": "stream",
          "text": [
            "625/625 [==============================] - 1s 2ms/step - loss: 0.9433 - root_mean_squared_error: 0.9412\n"
          ]
        },
        {
          "data": {
            "text/plain": [
              "[0.9432798624038696, 0.9412449598312378]"
            ]
          },
          "execution_count": 26,
          "metadata": {},
          "output_type": "execute_result"
        }
      ],
      "source": [
        "model.load_weights('weights.hdf5')\n",
        "model.evaluate([df_scores_val.user_id, df_scores_val.movie_id, df_scores_val[genre]], df_scores_val.rating)"
      ]
    },
    {
      "cell_type": "markdown",
      "metadata": {
        "id": "b3N66TsNP0vm"
      },
      "source": [
        "# Embeddings"
      ]
    },
    {
      "cell_type": "code",
      "execution_count": 16,
      "metadata": {
        "id": "3bSuozz9P0vo"
      },
      "outputs": [],
      "source": [
        "movie_embeddings_layer = model.layers[2]\n",
        "user_embeddings_layer = model.layers[3]"
      ]
    },
    {
      "cell_type": "code",
      "execution_count": 17,
      "metadata": {
        "colab": {
          "base_uri": "https://localhost:8080/"
        },
        "id": "bV7xV-7hP0vo",
        "outputId": "789cfedc-4d3c-426a-8f50-f64999b64265"
      },
      "outputs": [
        {
          "data": {
            "text/plain": [
              "('Movie-Embedding', 'User-Embedding')"
            ]
          },
          "execution_count": 17,
          "metadata": {},
          "output_type": "execute_result"
        }
      ],
      "source": [
        "movie_embeddings_layer.name, user_embeddings_layer.name"
      ]
    },
    {
      "cell_type": "code",
      "execution_count": 18,
      "metadata": {
        "colab": {
          "base_uri": "https://localhost:8080/"
        },
        "id": "EoxXxWSlP0vo",
        "outputId": "f7a9d8cb-79fa-4b2e-a807-3d65e195f832"
      },
      "outputs": [
        {
          "data": {
            "text/plain": [
              "(array([ 6.9691852e-04,  6.9132878e-04, -9.7433920e-04,  7.1175699e-04,\n",
              "         9.4077759e-04, -3.4237819e-04,  8.0289308e-04, -7.8987301e-04,\n",
              "        -6.2204752e-05,  4.7628334e-04,  7.7761113e-05, -5.4751860e-04,\n",
              "        -7.0846680e-04, -6.8318006e-04,  8.8423863e-04, -8.8081579e-04,\n",
              "         8.1089546e-04, -1.0470210e-03,  9.9037495e-04, -1.2263290e-04],\n",
              "       dtype=float32),\n",
              " (944, 20))"
            ]
          },
          "execution_count": 18,
          "metadata": {},
          "output_type": "execute_result"
        }
      ],
      "source": [
        "movie_embeddings_matrix = movie_embeddings_layer.get_weights()[0]\n",
        "user_embeddings_matrix = user_embeddings_layer.get_weights()[0]\n",
        "movie_embeddings_matrix[0], user_embeddings_matrix.shape"
      ]
    },
    {
      "cell_type": "code",
      "execution_count": 19,
      "metadata": {
        "id": "o10ZeXBWP0vp"
      },
      "outputs": [],
      "source": [
        "model_test_emb = Model([movie_input], [movie_embedding])"
      ]
    },
    {
      "cell_type": "code",
      "execution_count": 21,
      "metadata": {
        "colab": {
          "base_uri": "https://localhost:8080/"
        },
        "id": "l1SqUDrKP0vp",
        "outputId": "ea6a7260-b45e-41e4-9d09-998ee481dc60"
      },
      "outputs": [
        {
          "name": "stdout",
          "output_type": "stream",
          "text": [
            "1/1 [==============================] - 0s 433ms/step\n"
          ]
        },
        {
          "data": {
            "text/plain": [
              "70"
            ]
          },
          "execution_count": 21,
          "metadata": {},
          "output_type": "execute_result"
        }
      ],
      "source": [
        "index = 424 #6\n",
        "movie_embed = model_test_emb.predict([index])\n",
        "df_peliculas.loc[idx2Movie[index]].name"
      ]
    },
    {
      "cell_type": "code",
      "execution_count": null,
      "metadata": {
        "id": "WfGVcdEXE3XU"
      },
      "outputs": [],
      "source": [
        "\"\"\"\n",
        "np.save('vectors/movie_embeddings_matrix.npy', movie_embeddings_matrix)\n",
        "np.save('vectors/user_embeddings_matrix.npy', user_embeddings_matrix)\n",
        "np.save('vectors/user2Idx.npy', user2Idx)\n",
        "np.save('vectors/movie2Idx.npy', movie2Idx)\n",
        "\"\"\""
      ]
    }
  ],
  "metadata": {
    "colab": {
      "provenance": []
    },
    "kernelspec": {
      "display_name": "Python 3",
      "language": "python",
      "name": "python3"
    },
    "language_info": {
      "codemirror_mode": {
        "name": "ipython",
        "version": 3
      },
      "file_extension": ".py",
      "mimetype": "text/x-python",
      "name": "python",
      "nbconvert_exporter": "python",
      "pygments_lexer": "ipython3",
      "version": "3.9.18"
    }
  },
  "nbformat": 4,
  "nbformat_minor": 0
}
